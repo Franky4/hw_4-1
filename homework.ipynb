{
 "cells": [
  {
   "cell_type": "code",
   "execution_count": 2,
   "metadata": {},
   "outputs": [],
   "source": [
    "import pandas as pd\n",
    "import os"
   ]
  },
  {
   "cell_type": "code",
   "execution_count": 3,
   "metadata": {},
   "outputs": [],
   "source": [
    "DATA_PATH = f'{os.getcwd()}/names/'"
   ]
  },
  {
   "cell_type": "code",
   "execution_count": 3,
   "metadata": {},
   "outputs": [],
   "source": [
    "def count_top3(years):\n",
    "    names_row = ['Name', 'Gender', 'Count']\n",
    "    names_list = [pd.read_csv(DATA_PATH + 'yob' + str(year) + '.txt', names=names_row) for year in years]\n",
    "    names_all = pd.concat(names_list)\n",
    "    names_all2 = names_all.groupby(['Gender', 'Name']).sum()\n",
    "    names_all2 = names_all2.sort_values(by='Count', ascending=False).head(3)\n",
    "    names_all2 = names_all2.reset_index()\n",
    "    return [x for x in names_all2.Name]"
   ]
  },
  {
   "cell_type": "code",
   "execution_count": 4,
   "metadata": {},
   "outputs": [
    {
     "data": {
      "text/plain": [
       "True"
      ]
     },
     "execution_count": 4,
     "metadata": {},
     "output_type": "execute_result"
    }
   ],
   "source": [
    "count_top3([1900, 1950, 2000]) == ['James', 'John', 'Robert']\n"
   ]
  },
  {
   "cell_type": "code",
   "execution_count": 4,
   "metadata": {},
   "outputs": [],
   "source": [
    "def count_dynamics(years):\n",
    "    names_row = ['Name', 'Gender', 'Count']\n",
    "    names_list = {year: pd.read_csv(DATA_PATH + 'yob' + str(year) + '.txt', names=names_row) for year in years}\n",
    "    names_all = pd.concat(names_list, names=['Year'])\n",
    "    del names_all['Name']\n",
    "    names_all = names_all.groupby(['Gender', 'Year']).sum()\n",
    "    names_all = names_all.reset_index()\n",
    "    names_all = names_all.sort_values(by=['Gender', 'Year'], ascending=True)\n",
    "    del names_all['Year']\n",
    "\n",
    "    f = []\n",
    "    m = []\n",
    "    my_dict = {}\n",
    "\n",
    "    for x in names_all.values:\n",
    "        if x[0] == 'F':\n",
    "            f.append(x[1])\n",
    "            my_dict[x[0]] = f\n",
    "        elif x[0] == 'M':\n",
    "            m.append(x[1])\n",
    "            my_dict[x[0]] = m\n",
    "\n",
    "    return my_dict\n"
   ]
  },
  {
   "cell_type": "code",
   "execution_count": 7,
   "metadata": {},
   "outputs": [
    {
     "data": {
      "text/plain": [
       "{'F': [299810, 1713259, 1814922], 'M': [150486, 1790871, 1962744]}"
      ]
     },
     "execution_count": 7,
     "metadata": {},
     "output_type": "execute_result"
    }
   ],
   "source": [
    "count_dynamics([1900, 1950, 2000])"
   ]
  }
 ],
 "metadata": {
  "kernelspec": {
   "display_name": "Python 3",
   "language": "python",
   "name": "python3"
  },
  "language_info": {
   "codemirror_mode": {
    "name": "ipython",
    "version": 3
   },
   "file_extension": ".py",
   "mimetype": "text/x-python",
   "name": "python",
   "nbconvert_exporter": "python",
   "pygments_lexer": "ipython3",
   "version": "3.6.4"
  }
 },
 "nbformat": 4,
 "nbformat_minor": 2
}
